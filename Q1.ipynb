{
 "cells": [
  {
   "cell_type": "markdown",
   "id": "b1d45d5f",
   "metadata": {},
   "source": [
    "# Q1. When is the best time of day, day of the week, and time of year to fly to minimise delays?"
   ]
  },
  {
   "cell_type": "markdown",
   "id": "0e483328",
   "metadata": {},
   "source": [
    "Importing the libraries"
   ]
  },
  {
   "cell_type": "code",
   "execution_count": 1,
   "id": "a8f4b58f",
   "metadata": {},
   "outputs": [],
   "source": [
    "import numpy as np\n",
    "import pandas as pd\n",
    "import matplotlib.pyplot as plt\n",
    "import seaborn as sns"
   ]
  },
  {
   "cell_type": "markdown",
   "id": "7bfc80d0",
   "metadata": {},
   "source": [
    "Opening the datasets with necessary columns and concatenating the two years"
   ]
  },
  {
   "cell_type": "code",
   "execution_count": 2,
   "id": "8a083dd3",
   "metadata": {},
   "outputs": [
    {
     "data": {
      "text/html": [
       "<div>\n",
       "<style scoped>\n",
       "    .dataframe tbody tr th:only-of-type {\n",
       "        vertical-align: middle;\n",
       "    }\n",
       "\n",
       "    .dataframe tbody tr th {\n",
       "        vertical-align: top;\n",
       "    }\n",
       "\n",
       "    .dataframe thead th {\n",
       "        text-align: right;\n",
       "    }\n",
       "</style>\n",
       "<table border=\"1\" class=\"dataframe\">\n",
       "  <thead>\n",
       "    <tr style=\"text-align: right;\">\n",
       "      <th></th>\n",
       "      <th>Year</th>\n",
       "      <th>Month</th>\n",
       "      <th>DayofMonth</th>\n",
       "      <th>DayOfWeek</th>\n",
       "      <th>DepTime</th>\n",
       "      <th>DepDelay</th>\n",
       "    </tr>\n",
       "  </thead>\n",
       "  <tbody>\n",
       "    <tr>\n",
       "      <th>0</th>\n",
       "      <td>2006</td>\n",
       "      <td>1</td>\n",
       "      <td>11</td>\n",
       "      <td>3</td>\n",
       "      <td>743.0</td>\n",
       "      <td>-2.0</td>\n",
       "    </tr>\n",
       "    <tr>\n",
       "      <th>1</th>\n",
       "      <td>2006</td>\n",
       "      <td>1</td>\n",
       "      <td>11</td>\n",
       "      <td>3</td>\n",
       "      <td>1053.0</td>\n",
       "      <td>0.0</td>\n",
       "    </tr>\n",
       "    <tr>\n",
       "      <th>2</th>\n",
       "      <td>2006</td>\n",
       "      <td>1</td>\n",
       "      <td>11</td>\n",
       "      <td>3</td>\n",
       "      <td>1915.0</td>\n",
       "      <td>0.0</td>\n",
       "    </tr>\n",
       "    <tr>\n",
       "      <th>3</th>\n",
       "      <td>2006</td>\n",
       "      <td>1</td>\n",
       "      <td>11</td>\n",
       "      <td>3</td>\n",
       "      <td>1753.0</td>\n",
       "      <td>-2.0</td>\n",
       "    </tr>\n",
       "    <tr>\n",
       "      <th>4</th>\n",
       "      <td>2006</td>\n",
       "      <td>1</td>\n",
       "      <td>11</td>\n",
       "      <td>3</td>\n",
       "      <td>824.0</td>\n",
       "      <td>-8.0</td>\n",
       "    </tr>\n",
       "    <tr>\n",
       "      <th>...</th>\n",
       "      <td>...</td>\n",
       "      <td>...</td>\n",
       "      <td>...</td>\n",
       "      <td>...</td>\n",
       "      <td>...</td>\n",
       "      <td>...</td>\n",
       "    </tr>\n",
       "    <tr>\n",
       "      <th>7453210</th>\n",
       "      <td>2007</td>\n",
       "      <td>12</td>\n",
       "      <td>15</td>\n",
       "      <td>6</td>\n",
       "      <td>1558.0</td>\n",
       "      <td>-7.0</td>\n",
       "    </tr>\n",
       "    <tr>\n",
       "      <th>7453211</th>\n",
       "      <td>2007</td>\n",
       "      <td>12</td>\n",
       "      <td>15</td>\n",
       "      <td>6</td>\n",
       "      <td>1902.0</td>\n",
       "      <td>11.0</td>\n",
       "    </tr>\n",
       "    <tr>\n",
       "      <th>7453212</th>\n",
       "      <td>2007</td>\n",
       "      <td>12</td>\n",
       "      <td>15</td>\n",
       "      <td>6</td>\n",
       "      <td>1024.0</td>\n",
       "      <td>-1.0</td>\n",
       "    </tr>\n",
       "    <tr>\n",
       "      <th>7453213</th>\n",
       "      <td>2007</td>\n",
       "      <td>12</td>\n",
       "      <td>15</td>\n",
       "      <td>6</td>\n",
       "      <td>1353.0</td>\n",
       "      <td>38.0</td>\n",
       "    </tr>\n",
       "    <tr>\n",
       "      <th>7453214</th>\n",
       "      <td>2007</td>\n",
       "      <td>12</td>\n",
       "      <td>15</td>\n",
       "      <td>6</td>\n",
       "      <td>1824.0</td>\n",
       "      <td>24.0</td>\n",
       "    </tr>\n",
       "  </tbody>\n",
       "</table>\n",
       "<p>14595137 rows × 6 columns</p>\n",
       "</div>"
      ],
      "text/plain": [
       "         Year  Month  DayofMonth  DayOfWeek  DepTime  DepDelay\n",
       "0        2006      1          11          3    743.0      -2.0\n",
       "1        2006      1          11          3   1053.0       0.0\n",
       "2        2006      1          11          3   1915.0       0.0\n",
       "3        2006      1          11          3   1753.0      -2.0\n",
       "4        2006      1          11          3    824.0      -8.0\n",
       "...       ...    ...         ...        ...      ...       ...\n",
       "7453210  2007     12          15          6   1558.0      -7.0\n",
       "7453211  2007     12          15          6   1902.0      11.0\n",
       "7453212  2007     12          15          6   1024.0      -1.0\n",
       "7453213  2007     12          15          6   1353.0      38.0\n",
       "7453214  2007     12          15          6   1824.0      24.0\n",
       "\n",
       "[14595137 rows x 6 columns]"
      ]
     },
     "execution_count": 2,
     "metadata": {},
     "output_type": "execute_result"
    }
   ],
   "source": [
    "dataset_2006 = pd.read_csv(\"2006.csv\", usecols = ['Year','Month','DayofMonth','DayOfWeek','DepTime','DepDelay'])\n",
    "dataset_2007 = pd.read_csv(\"2007.csv\", usecols = ['Year','Month','DayofMonth','DayOfWeek','DepTime','DepDelay'])\n",
    "main_dataset = pd.concat([dataset_2006, dataset_2007])\n",
    "main_dataset"
   ]
  },
  {
   "cell_type": "markdown",
   "id": "661795ee",
   "metadata": {},
   "source": [
    "Learn the shape and object types of our data"
   ]
  },
  {
   "cell_type": "code",
   "execution_count": 3,
   "id": "669d1984",
   "metadata": {},
   "outputs": [
    {
     "name": "stdout",
     "output_type": "stream",
     "text": [
      "<class 'pandas.core.frame.DataFrame'>\n",
      "Int64Index: 14595137 entries, 0 to 7453214\n",
      "Data columns (total 6 columns):\n",
      " #   Column      Dtype  \n",
      "---  ------      -----  \n",
      " 0   Year        int64  \n",
      " 1   Month       int64  \n",
      " 2   DayofMonth  int64  \n",
      " 3   DayOfWeek   int64  \n",
      " 4   DepTime     float64\n",
      " 5   DepDelay    float64\n",
      "dtypes: float64(2), int64(4)\n",
      "memory usage: 779.5 MB\n"
     ]
    }
   ],
   "source": [
    "main_dataset.info()"
   ]
  },
  {
   "cell_type": "markdown",
   "id": "dfffa9b0",
   "metadata": {},
   "source": [
    "Filtering the dataset to obtain records of only delayed flights"
   ]
  },
  {
   "cell_type": "code",
   "execution_count": 4,
   "id": "f50a240d",
   "metadata": {},
   "outputs": [],
   "source": [
    "delays = main_dataset[main_dataset['DepDelay'] > 0]"
   ]
  },
  {
   "cell_type": "markdown",
   "id": "f9c9fdb6",
   "metadata": {},
   "source": [
    "Checking for null vallues"
   ]
  },
  {
   "cell_type": "code",
   "execution_count": 5,
   "id": "cc66b4e8",
   "metadata": {},
   "outputs": [
    {
     "data": {
      "text/plain": [
       "Year          0\n",
       "Month         0\n",
       "DayofMonth    0\n",
       "DayOfWeek     0\n",
       "DepTime       0\n",
       "DepDelay      0\n",
       "dtype: int64"
      ]
     },
     "execution_count": 5,
     "metadata": {},
     "output_type": "execute_result"
    }
   ],
   "source": [
    "pd.isnull(delays).sum(axis = 0)"
   ]
  },
  {
   "cell_type": "markdown",
   "id": "657bc668",
   "metadata": {},
   "source": [
    "Transforming DepTime to an hour format for convenient grouping"
   ]
  },
  {
   "cell_type": "code",
   "execution_count": 6,
   "id": "d8b10a17",
   "metadata": {},
   "outputs": [
    {
     "name": "stderr",
     "output_type": "stream",
     "text": [
      "<ipython-input-6-20c04fb528c2>:1: SettingWithCopyWarning: \n",
      "A value is trying to be set on a copy of a slice from a DataFrame.\n",
      "Try using .loc[row_indexer,col_indexer] = value instead\n",
      "\n",
      "See the caveats in the documentation: https://pandas.pydata.org/pandas-docs/stable/user_guide/indexing.html#returning-a-view-versus-a-copy\n",
      "  delays['DepTime'] = delays['DepTime'] //100\n",
      "<ipython-input-6-20c04fb528c2>:2: SettingWithCopyWarning: \n",
      "A value is trying to be set on a copy of a slice from a DataFrame.\n",
      "Try using .loc[row_indexer,col_indexer] = value instead\n",
      "\n",
      "See the caveats in the documentation: https://pandas.pydata.org/pandas-docs/stable/user_guide/indexing.html#returning-a-view-versus-a-copy\n",
      "  delays['DepTime'] = delays['DepTime'].astype(int)\n"
     ]
    }
   ],
   "source": [
    "delays['DepTime'] = delays['DepTime'] //100\n",
    "delays['DepTime'] = delays['DepTime'].astype(int)"
   ]
  },
  {
   "cell_type": "code",
   "execution_count": 7,
   "id": "05edadc5",
   "metadata": {},
   "outputs": [
    {
     "name": "stderr",
     "output_type": "stream",
     "text": [
      "<ipython-input-7-7316194d0535>:1: SettingWithCopyWarning: \n",
      "A value is trying to be set on a copy of a slice from a DataFrame.\n",
      "Try using .loc[row_indexer,col_indexer] = value instead\n",
      "\n",
      "See the caveats in the documentation: https://pandas.pydata.org/pandas-docs/stable/user_guide/indexing.html#returning-a-view-versus-a-copy\n",
      "  delays['DepTime'] = delays['DepTime'] *100\n"
     ]
    }
   ],
   "source": [
    "delays['DepTime'] = delays['DepTime'] *100"
   ]
  },
  {
   "cell_type": "markdown",
   "id": "65df70ef",
   "metadata": {},
   "source": [
    "Eliminating values that are not in correct 24hour time format (Ex: 2500,2900)"
   ]
  },
  {
   "cell_type": "code",
   "execution_count": 8,
   "id": "105e7971",
   "metadata": {},
   "outputs": [],
   "source": [
    "delays = delays[delays['DepTime'] <= 2300]"
   ]
  },
  {
   "cell_type": "markdown",
   "id": "5c7986d2",
   "metadata": {},
   "source": [
    "Adding leading zeros to complete the transformation"
   ]
  },
  {
   "cell_type": "code",
   "execution_count": 9,
   "id": "ba79ba88",
   "metadata": {},
   "outputs": [],
   "source": [
    "delays['DepTime'] = delays['DepTime'].apply(lambda x: '{0:0>4}'.format(x))"
   ]
  },
  {
   "cell_type": "code",
   "execution_count": 10,
   "id": "2d5291ec",
   "metadata": {},
   "outputs": [
    {
     "data": {
      "text/html": [
       "<div>\n",
       "<style scoped>\n",
       "    .dataframe tbody tr th:only-of-type {\n",
       "        vertical-align: middle;\n",
       "    }\n",
       "\n",
       "    .dataframe tbody tr th {\n",
       "        vertical-align: top;\n",
       "    }\n",
       "\n",
       "    .dataframe thead th {\n",
       "        text-align: right;\n",
       "    }\n",
       "</style>\n",
       "<table border=\"1\" class=\"dataframe\">\n",
       "  <thead>\n",
       "    <tr style=\"text-align: right;\">\n",
       "      <th></th>\n",
       "      <th>Year</th>\n",
       "      <th>Month</th>\n",
       "      <th>DayofMonth</th>\n",
       "      <th>DayOfWeek</th>\n",
       "      <th>DepTime</th>\n",
       "      <th>DepDelay</th>\n",
       "    </tr>\n",
       "  </thead>\n",
       "  <tbody>\n",
       "    <tr>\n",
       "      <th>6</th>\n",
       "      <td>2006</td>\n",
       "      <td>1</td>\n",
       "      <td>11</td>\n",
       "      <td>3</td>\n",
       "      <td>0800</td>\n",
       "      <td>5.0</td>\n",
       "    </tr>\n",
       "    <tr>\n",
       "      <th>10</th>\n",
       "      <td>2006</td>\n",
       "      <td>1</td>\n",
       "      <td>11</td>\n",
       "      <td>3</td>\n",
       "      <td>1800</td>\n",
       "      <td>1.0</td>\n",
       "    </tr>\n",
       "    <tr>\n",
       "      <th>15</th>\n",
       "      <td>2006</td>\n",
       "      <td>1</td>\n",
       "      <td>11</td>\n",
       "      <td>3</td>\n",
       "      <td>1300</td>\n",
       "      <td>2.0</td>\n",
       "    </tr>\n",
       "    <tr>\n",
       "      <th>16</th>\n",
       "      <td>2006</td>\n",
       "      <td>1</td>\n",
       "      <td>11</td>\n",
       "      <td>3</td>\n",
       "      <td>1700</td>\n",
       "      <td>132.0</td>\n",
       "    </tr>\n",
       "    <tr>\n",
       "      <th>18</th>\n",
       "      <td>2006</td>\n",
       "      <td>1</td>\n",
       "      <td>11</td>\n",
       "      <td>3</td>\n",
       "      <td>1100</td>\n",
       "      <td>8.0</td>\n",
       "    </tr>\n",
       "    <tr>\n",
       "      <th>...</th>\n",
       "      <td>...</td>\n",
       "      <td>...</td>\n",
       "      <td>...</td>\n",
       "      <td>...</td>\n",
       "      <td>...</td>\n",
       "      <td>...</td>\n",
       "    </tr>\n",
       "    <tr>\n",
       "      <th>7453207</th>\n",
       "      <td>2007</td>\n",
       "      <td>12</td>\n",
       "      <td>15</td>\n",
       "      <td>6</td>\n",
       "      <td>1300</td>\n",
       "      <td>6.0</td>\n",
       "    </tr>\n",
       "    <tr>\n",
       "      <th>7453208</th>\n",
       "      <td>2007</td>\n",
       "      <td>12</td>\n",
       "      <td>15</td>\n",
       "      <td>6</td>\n",
       "      <td>1600</td>\n",
       "      <td>1.0</td>\n",
       "    </tr>\n",
       "    <tr>\n",
       "      <th>7453211</th>\n",
       "      <td>2007</td>\n",
       "      <td>12</td>\n",
       "      <td>15</td>\n",
       "      <td>6</td>\n",
       "      <td>1900</td>\n",
       "      <td>11.0</td>\n",
       "    </tr>\n",
       "    <tr>\n",
       "      <th>7453213</th>\n",
       "      <td>2007</td>\n",
       "      <td>12</td>\n",
       "      <td>15</td>\n",
       "      <td>6</td>\n",
       "      <td>1300</td>\n",
       "      <td>38.0</td>\n",
       "    </tr>\n",
       "    <tr>\n",
       "      <th>7453214</th>\n",
       "      <td>2007</td>\n",
       "      <td>12</td>\n",
       "      <td>15</td>\n",
       "      <td>6</td>\n",
       "      <td>1800</td>\n",
       "      <td>24.0</td>\n",
       "    </tr>\n",
       "  </tbody>\n",
       "</table>\n",
       "<p>5968321 rows × 6 columns</p>\n",
       "</div>"
      ],
      "text/plain": [
       "         Year  Month  DayofMonth  DayOfWeek DepTime  DepDelay\n",
       "6        2006      1          11          3    0800       5.0\n",
       "10       2006      1          11          3    1800       1.0\n",
       "15       2006      1          11          3    1300       2.0\n",
       "16       2006      1          11          3    1700     132.0\n",
       "18       2006      1          11          3    1100       8.0\n",
       "...       ...    ...         ...        ...     ...       ...\n",
       "7453207  2007     12          15          6    1300       6.0\n",
       "7453208  2007     12          15          6    1600       1.0\n",
       "7453211  2007     12          15          6    1900      11.0\n",
       "7453213  2007     12          15          6    1300      38.0\n",
       "7453214  2007     12          15          6    1800      24.0\n",
       "\n",
       "[5968321 rows x 6 columns]"
      ]
     },
     "execution_count": 10,
     "metadata": {},
     "output_type": "execute_result"
    }
   ],
   "source": [
    "delays"
   ]
  },
  {
   "cell_type": "markdown",
   "id": "88fec68b",
   "metadata": {},
   "source": [
    "### Q1) i. Best time of day to fly to minimise delays = Between 0600-0700"
   ]
  },
  {
   "cell_type": "markdown",
   "id": "131b44c2",
   "metadata": {},
   "source": [
    "Grouping the departure delays by hour and obtaining the mean delay across hours"
   ]
  },
  {
   "cell_type": "code",
   "execution_count": 11,
   "id": "96cc669b",
   "metadata": {
    "scrolled": true
   },
   "outputs": [],
   "source": [
    "delays_byhour = delays.groupby('DepTime')['DepDelay'].mean()  \n",
    "y_mean = delays_byhour.mean()"
   ]
  },
  {
   "cell_type": "markdown",
   "id": "082ac3b1",
   "metadata": {},
   "source": [
    "Plotting departure delay hourly"
   ]
  },
  {
   "cell_type": "code",
   "execution_count": 12,
   "id": "50f6875a",
   "metadata": {
    "scrolled": true
   },
   "outputs": [
    {
     "data": {
      "text/plain": [
       "<AxesSubplot:xlabel='DepTime', ylabel='Mean delay in minutes'>"
      ]
     },
     "execution_count": 12,
     "metadata": {},
     "output_type": "execute_result"
    },
    {
     "data": {
      "image/png": "[encoded data removed]",
      "text/plain": [
       "<Figure size 1080x720 with 1 Axes>"
      ]
     },
     "metadata": {},
     "output_type": "display_data"
    }
   ],
   "source": [
    "#setting the darker grid style\n",
    "sns.set_style(\"darkgrid\")\n",
    "\n",
    "#setting the size of the figure\n",
    "fig,ax = plt.subplots(figsize = (15, 10))\n",
    "\n",
    "#rotating the xticks to increase readability\n",
    "plt.xticks(rotation = 45)\n",
    "\n",
    "#setting the label for the y axis\n",
    "ax.set(ylabel = \"Mean delay in minutes\")\n",
    "\n",
    "#setting a diverging color palette communicate the degree of delay; redder the bar, higher the delay \n",
    "pal = sns.color_palette(\"coolwarm\", len(delays_byhour.values))\n",
    "rank = delays_byhour.values.argsort().argsort() \n",
    "\n",
    "sns.barplot(ax=ax, x = delays_byhour.index, y = delays_byhour.values, palette=np.array(pal)[rank])\n",
    "\n",
    "#plotting the average line for referencce\n",
    "sns.lineplot(ax=ax, x = delays_byhour.index,y = y_mean, label='Mean', linestyle='--')"
   ]
  },
  {
   "cell_type": "markdown",
   "id": "c03fb51e",
   "metadata": {},
   "source": [
    "### Q1) ii. Best day of the week to fly to minimise delays = On Saturday"
   ]
  },
  {
   "cell_type": "markdown",
   "id": "56f0aad0",
   "metadata": {},
   "source": [
    "Grouping the departure delays by day and obtaining the mean delay across days"
   ]
  },
  {
   "cell_type": "code",
   "execution_count": 13,
   "id": "930570b5",
   "metadata": {},
   "outputs": [],
   "source": [
    "delays_byday = delays.groupby('DayOfWeek')['DepDelay'].mean()\n",
    "y_mean = delays_byday.mean()"
   ]
  },
  {
   "cell_type": "markdown",
   "id": "b4fd5f4e",
   "metadata": {},
   "source": [
    "Renaming the index names since dataset is coded -> DayOfWeek 1 (Monday) - 7 (Sunday)"
   ]
  },
  {
   "cell_type": "code",
   "execution_count": 14,
   "id": "e9d714e8",
   "metadata": {},
   "outputs": [],
   "source": [
    "delays_byday.rename({1: 'Monday', 2: 'Tuesday', 3:'Wednesday', 4:'Thursday', 5:'Friday', 6:'Saturday', 7:'Sunday'}, inplace = True)"
   ]
  },
  {
   "cell_type": "markdown",
   "id": "f868d407",
   "metadata": {},
   "source": [
    "Plotting departure delay by day of week"
   ]
  },
  {
   "cell_type": "code",
   "execution_count": 15,
   "id": "35ec4738",
   "metadata": {},
   "outputs": [
    {
     "data": {
      "text/plain": [
       "<AxesSubplot:xlabel='DayOfWeek', ylabel='Mean delay in minutes'>"
      ]
     },
     "execution_count": 15,
     "metadata": {},
     "output_type": "execute_result"
    },
    {
     "data": {
      "image/png": "[encoded data removed]",
      "text/plain": [
       "<Figure size 1080x720 with 1 Axes>"
      ]
     },
     "metadata": {},
     "output_type": "display_data"
    }
   ],
   "source": [
    "fig,ax = plt.subplots(figsize = (15, 10))\n",
    "\n",
    "\n",
    "ax.set(ylabel = \"Mean delay in minutes\")\n",
    "\n",
    "pal = sns.color_palette(\"coolwarm\", len(delays_byday.values))\n",
    "rank = delays_byday.values.argsort().argsort() \n",
    "\n",
    "sns.barplot(ax=ax, x = delays_byday.index, y = delays_byday.values, palette=np.array(pal)[rank])\n",
    "sns.lineplot(ax=ax, x = delays_byday.index, y = y_mean, label='Mean', linestyle='--')"
   ]
  },
  {
   "cell_type": "markdown",
   "id": "71a92a87",
   "metadata": {},
   "source": [
    "### Q1) iii. Best time of year to fly to minimise delays = In November"
   ]
  },
  {
   "cell_type": "markdown",
   "id": "6d0245ef",
   "metadata": {},
   "source": [
    "Grouping the departure delays by month and obtaining the mean delay across months"
   ]
  },
  {
   "cell_type": "code",
   "execution_count": 16,
   "id": "5feaa692",
   "metadata": {
    "scrolled": true
   },
   "outputs": [],
   "source": [
    "delays_bymonth = delays.groupby('Month')['DepDelay'].mean()\n",
    "y_mean = delays_bymonth.mean()"
   ]
  },
  {
   "cell_type": "markdown",
   "id": "afcbf540",
   "metadata": {},
   "source": [
    "Renaming the index names since dataset is coded -> Month 1 (January) - 7 (December)"
   ]
  },
  {
   "cell_type": "code",
   "execution_count": 17,
   "id": "91ca50ce",
   "metadata": {},
   "outputs": [],
   "source": [
    "delays_bymonth.rename({1:'January', 2:'February', 3:'March', 4:'April', 5:'May', 6:'June', 7:'July', 8:'August', 9:'September', 10:'October', 11:'November', 12:'December'}, inplace = True)"
   ]
  },
  {
   "cell_type": "markdown",
   "id": "58388e19",
   "metadata": {},
   "source": [
    "Plotting departure delay monthly"
   ]
  },
  {
   "cell_type": "code",
   "execution_count": 18,
   "id": "3eb8cc07",
   "metadata": {
    "scrolled": false
   },
   "outputs": [
    {
     "data": {
      "text/plain": [
       "<AxesSubplot:xlabel='Month', ylabel='Mean delay in minutes'>"
      ]
     },
     "execution_count": 18,
     "metadata": {},
     "output_type": "execute_result"
    },
    {
     "data": {
      "image/png": "[encoded data removed]",
      "text/plain": [
       "<Figure size 1080x720 with 1 Axes>"
      ]
     },
     "metadata": {},
     "output_type": "display_data"
    }
   ],
   "source": [
    "fig,ax = plt.subplots(figsize = (15, 10))\n",
    "\n",
    "ax.set(ylabel = \"Mean delay in minutes\")\n",
    "\n",
    "pal = sns.color_palette(\"coolwarm\", len(delays_bymonth.values))\n",
    "rank = delays_bymonth.values.argsort().argsort() \n",
    "\n",
    "sns.barplot(ax=ax, x = delays_bymonth.index, y = delays_bymonth.values, palette=np.array(pal)[rank])\n",
    "sns.lineplot(ax=ax, x = delays_bymonth.index, y = y_mean, label='Mean', linestyle='--')"
   ]
  }
 ],
 "metadata": {
  "kernelspec": {
   "display_name": "Python 3",
   "language": "python",
   "name": "python3"
  },
  "language_info": {
   "codemirror_mode": {
    "name": "ipython",
    "version": 3
   },
   "file_extension": ".py",
   "mimetype": "text/x-python",
   "name": "python",
   "nbconvert_exporter": "python",
   "pygments_lexer": "ipython3",
   "version": "3.8.8"
  }
 },
 "nbformat": 4,
 "nbformat_minor": 5
}
