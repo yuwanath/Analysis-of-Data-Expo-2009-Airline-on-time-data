{
 "cells": [
  {
   "cell_type": "markdown",
   "id": "c296c4e7",
   "metadata": {},
   "source": [
    "# Q2. Do older planes suffer more delays?"
   ]
  },
  {
   "cell_type": "markdown",
   "id": "fa00d4b2",
   "metadata": {},
   "source": [
    "Importing the libraries"
   ]
  },
  {
   "cell_type": "code",
   "execution_count": 1,
   "id": "49540388",
   "metadata": {},
   "outputs": [],
   "source": [
    "import numpy as np\n",
    "import pandas as pd\n",
    "import matplotlib.pyplot as plt\n",
    "import seaborn as sns"
   ]
  },
  {
   "cell_type": "markdown",
   "id": "64bb85e8",
   "metadata": {},
   "source": [
    "Opening the datasets with necessary columns and concatenating the two years"
   ]
  },
  {
   "cell_type": "code",
   "execution_count": 2,
   "id": "ddd63afe",
   "metadata": {
    "scrolled": false
   },
   "outputs": [
    {
     "data": {
      "text/html": [
       "<div>\n",
       "<style scoped>\n",
       "    .dataframe tbody tr th:only-of-type {\n",
       "        vertical-align: middle;\n",
       "    }\n",
       "\n",
       "    .dataframe tbody tr th {\n",
       "        vertical-align: top;\n",
       "    }\n",
       "\n",
       "    .dataframe thead th {\n",
       "        text-align: right;\n",
       "    }\n",
       "</style>\n",
       "<table border=\"1\" class=\"dataframe\">\n",
       "  <thead>\n",
       "    <tr style=\"text-align: right;\">\n",
       "      <th></th>\n",
       "      <th>TailNum</th>\n",
       "      <th>DepDelay</th>\n",
       "    </tr>\n",
       "  </thead>\n",
       "  <tbody>\n",
       "    <tr>\n",
       "      <th>0</th>\n",
       "      <td>N657AW</td>\n",
       "      <td>-2.0</td>\n",
       "    </tr>\n",
       "    <tr>\n",
       "      <th>1</th>\n",
       "      <td>N834AW</td>\n",
       "      <td>0.0</td>\n",
       "    </tr>\n",
       "    <tr>\n",
       "      <th>2</th>\n",
       "      <td>N605AW</td>\n",
       "      <td>0.0</td>\n",
       "    </tr>\n",
       "    <tr>\n",
       "      <th>3</th>\n",
       "      <td>N312AW</td>\n",
       "      <td>-2.0</td>\n",
       "    </tr>\n",
       "    <tr>\n",
       "      <th>4</th>\n",
       "      <td>N309AW</td>\n",
       "      <td>-8.0</td>\n",
       "    </tr>\n",
       "    <tr>\n",
       "      <th>...</th>\n",
       "      <td>...</td>\n",
       "      <td>...</td>\n",
       "    </tr>\n",
       "    <tr>\n",
       "      <th>7453210</th>\n",
       "      <td>N670DN</td>\n",
       "      <td>-7.0</td>\n",
       "    </tr>\n",
       "    <tr>\n",
       "      <th>7453211</th>\n",
       "      <td>N829MH</td>\n",
       "      <td>11.0</td>\n",
       "    </tr>\n",
       "    <tr>\n",
       "      <th>7453212</th>\n",
       "      <td>N623DL</td>\n",
       "      <td>-1.0</td>\n",
       "    </tr>\n",
       "    <tr>\n",
       "      <th>7453213</th>\n",
       "      <td>N970DL</td>\n",
       "      <td>38.0</td>\n",
       "    </tr>\n",
       "    <tr>\n",
       "      <th>7453214</th>\n",
       "      <td>N628DL</td>\n",
       "      <td>24.0</td>\n",
       "    </tr>\n",
       "  </tbody>\n",
       "</table>\n",
       "<p>14595137 rows × 2 columns</p>\n",
       "</div>"
      ],
      "text/plain": [
       "        TailNum  DepDelay\n",
       "0        N657AW      -2.0\n",
       "1        N834AW       0.0\n",
       "2        N605AW       0.0\n",
       "3        N312AW      -2.0\n",
       "4        N309AW      -8.0\n",
       "...         ...       ...\n",
       "7453210  N670DN      -7.0\n",
       "7453211  N829MH      11.0\n",
       "7453212  N623DL      -1.0\n",
       "7453213  N970DL      38.0\n",
       "7453214  N628DL      24.0\n",
       "\n",
       "[14595137 rows x 2 columns]"
      ]
     },
     "execution_count": 2,
     "metadata": {},
     "output_type": "execute_result"
    }
   ],
   "source": [
    "dataset_2006 = pd.read_csv(\"2006.csv\", usecols = ['TailNum','DepDelay'])\n",
    "dataset_2007 = pd.read_csv(\"2007.csv\", usecols = ['TailNum','DepDelay'])\n",
    "plane_data = pd.read_csv(\"plane-data.csv\", usecols = ['tailnum','year'])\n",
    "main_dataset = pd.concat([dataset_2006, dataset_2007])\n",
    "main_dataset"
   ]
  },
  {
   "cell_type": "markdown",
   "id": "cfcfc71e",
   "metadata": {},
   "source": [
    "Filtering the dataset to obtain records of only delayed flights"
   ]
  },
  {
   "cell_type": "code",
   "execution_count": 3,
   "id": "fb162521",
   "metadata": {},
   "outputs": [],
   "source": [
    "delays = main_dataset[main_dataset['DepDelay'] > 0]"
   ]
  },
  {
   "cell_type": "markdown",
   "id": "0d637570",
   "metadata": {},
   "source": [
    "Checking for null vallues"
   ]
  },
  {
   "cell_type": "code",
   "execution_count": 4,
   "id": "9f219363",
   "metadata": {},
   "outputs": [
    {
     "data": {
      "text/plain": [
       "TailNum     0\n",
       "DepDelay    0\n",
       "dtype: int64"
      ]
     },
     "execution_count": 4,
     "metadata": {},
     "output_type": "execute_result"
    }
   ],
   "source": [
    "pd.isnull(delays).sum(axis = 0)"
   ]
  },
  {
   "cell_type": "code",
   "execution_count": 5,
   "id": "c370deef",
   "metadata": {
    "scrolled": false
   },
   "outputs": [
    {
     "data": {
      "text/plain": [
       "tailnum      0\n",
       "year       549\n",
       "dtype: int64"
      ]
     },
     "execution_count": 5,
     "metadata": {},
     "output_type": "execute_result"
    }
   ],
   "source": [
    "pd.isnull(plane_data).sum(axis = 0)"
   ]
  },
  {
   "cell_type": "markdown",
   "id": "7e59e189",
   "metadata": {},
   "source": [
    "Dropping the null values "
   ]
  },
  {
   "cell_type": "code",
   "execution_count": 6,
   "id": "838f744d",
   "metadata": {},
   "outputs": [
    {
     "data": {
      "text/plain": [
       "tailnum    0\n",
       "year       0\n",
       "dtype: int64"
      ]
     },
     "execution_count": 6,
     "metadata": {},
     "output_type": "execute_result"
    }
   ],
   "source": [
    "plane_data = plane_data[pd.notnull(plane_data['year'])]\n",
    "pd.isnull(plane_data).sum(axis = 0)"
   ]
  },
  {
   "cell_type": "markdown",
   "id": "1e676852",
   "metadata": {},
   "source": [
    "Taking a glimpse at year values to weed out out of place values (Ex : None, 0000)"
   ]
  },
  {
   "cell_type": "code",
   "execution_count": 7,
   "id": "2861e46b",
   "metadata": {},
   "outputs": [
    {
     "data": {
      "text/plain": [
       "2001    389\n",
       "2000    341\n",
       "1999    320\n",
       "2002    306\n",
       "2003    266\n",
       "1998    248\n",
       "2004    240\n",
       "2005    193\n",
       "1991    156\n",
       "2006    152\n",
       "1988    148\n",
       "1992    146\n",
       "None    145\n",
       "1990    145\n",
       "1997    134\n",
       "1987    131\n",
       "1989    110\n",
       "1996    109\n",
       "2007    107\n",
       "1994    103\n",
       "1995    101\n",
       "1993    100\n",
       "1986     92\n",
       "1985     84\n",
       "2008     37\n",
       "1984     27\n",
       "1968     24\n",
       "1983     18\n",
       "1967     16\n",
       "1969     12\n",
       "1979     11\n",
       "1975     10\n",
       "1976      8\n",
       "1980      8\n",
       "1978      8\n",
       "1977      6\n",
       "1982      6\n",
       "1973      3\n",
       "0000      3\n",
       "1959      2\n",
       "1974      2\n",
       "1963      2\n",
       "1970      2\n",
       "1965      1\n",
       "1956      1\n",
       "1957      1\n",
       "1971      1\n",
       "1964      1\n",
       "1946      1\n",
       "1972      1\n",
       "1962      1\n",
       "1966      1\n",
       "Name: year, dtype: int64"
      ]
     },
     "execution_count": 7,
     "metadata": {},
     "output_type": "execute_result"
    }
   ],
   "source": [
    "plane_data.year.value_counts()"
   ]
  },
  {
   "cell_type": "code",
   "execution_count": 8,
   "id": "c29d72ee",
   "metadata": {},
   "outputs": [],
   "source": [
    "plane_data = plane_data.replace(to_replace='0000', value=np.nan).dropna()\n",
    "plane_data = plane_data.replace(to_replace='None', value=np.nan).dropna()"
   ]
  },
  {
   "cell_type": "code",
   "execution_count": 9,
   "id": "dcc94aaf",
   "metadata": {},
   "outputs": [
    {
     "data": {
      "text/plain": [
       "2001    389\n",
       "2000    341\n",
       "1999    320\n",
       "2002    306\n",
       "2003    266\n",
       "1998    248\n",
       "2004    240\n",
       "2005    193\n",
       "1991    156\n",
       "2006    152\n",
       "1988    148\n",
       "1992    146\n",
       "1990    145\n",
       "1997    134\n",
       "1987    131\n",
       "1989    110\n",
       "1996    109\n",
       "2007    107\n",
       "1994    103\n",
       "1995    101\n",
       "1993    100\n",
       "1986     92\n",
       "1985     84\n",
       "2008     37\n",
       "1984     27\n",
       "1968     24\n",
       "1983     18\n",
       "1967     16\n",
       "1969     12\n",
       "1979     11\n",
       "1975     10\n",
       "1978      8\n",
       "1976      8\n",
       "1980      8\n",
       "1977      6\n",
       "1982      6\n",
       "1973      3\n",
       "1959      2\n",
       "1974      2\n",
       "1970      2\n",
       "1963      2\n",
       "1964      1\n",
       "1956      1\n",
       "1971      1\n",
       "1957      1\n",
       "1966      1\n",
       "1972      1\n",
       "1965      1\n",
       "1946      1\n",
       "1962      1\n",
       "Name: year, dtype: int64"
      ]
     },
     "execution_count": 9,
     "metadata": {},
     "output_type": "execute_result"
    }
   ],
   "source": [
    "plane_data.year.value_counts()"
   ]
  },
  {
   "cell_type": "markdown",
   "id": "919467a5",
   "metadata": {},
   "source": [
    "Making a common column name to prepare for the inner merge"
   ]
  },
  {
   "cell_type": "code",
   "execution_count": 10,
   "id": "6258d76a",
   "metadata": {},
   "outputs": [],
   "source": [
    "delays = delays.rename(columns={'TailNum': 'tailnum'})"
   ]
  },
  {
   "cell_type": "code",
   "execution_count": 11,
   "id": "9944e074",
   "metadata": {},
   "outputs": [
    {
     "data": {
      "text/html": [
       "<div>\n",
       "<style scoped>\n",
       "    .dataframe tbody tr th:only-of-type {\n",
       "        vertical-align: middle;\n",
       "    }\n",
       "\n",
       "    .dataframe tbody tr th {\n",
       "        vertical-align: top;\n",
       "    }\n",
       "\n",
       "    .dataframe thead th {\n",
       "        text-align: right;\n",
       "    }\n",
       "</style>\n",
       "<table border=\"1\" class=\"dataframe\">\n",
       "  <thead>\n",
       "    <tr style=\"text-align: right;\">\n",
       "      <th></th>\n",
       "      <th>tailnum</th>\n",
       "      <th>DepDelay</th>\n",
       "    </tr>\n",
       "  </thead>\n",
       "  <tbody>\n",
       "    <tr>\n",
       "      <th>6</th>\n",
       "      <td>N177UW</td>\n",
       "      <td>5.0</td>\n",
       "    </tr>\n",
       "    <tr>\n",
       "      <th>10</th>\n",
       "      <td>N425US</td>\n",
       "      <td>1.0</td>\n",
       "    </tr>\n",
       "    <tr>\n",
       "      <th>15</th>\n",
       "      <td>N808MD</td>\n",
       "      <td>2.0</td>\n",
       "    </tr>\n",
       "    <tr>\n",
       "      <th>16</th>\n",
       "      <td>N105UW</td>\n",
       "      <td>132.0</td>\n",
       "    </tr>\n",
       "    <tr>\n",
       "      <th>18</th>\n",
       "      <td>N702UW</td>\n",
       "      <td>8.0</td>\n",
       "    </tr>\n",
       "  </tbody>\n",
       "</table>\n",
       "</div>"
      ],
      "text/plain": [
       "   tailnum  DepDelay\n",
       "6   N177UW       5.0\n",
       "10  N425US       1.0\n",
       "15  N808MD       2.0\n",
       "16  N105UW     132.0\n",
       "18  N702UW       8.0"
      ]
     },
     "execution_count": 11,
     "metadata": {},
     "output_type": "execute_result"
    }
   ],
   "source": [
    "delays.head()"
   ]
  },
  {
   "cell_type": "markdown",
   "id": "0c0b778f",
   "metadata": {},
   "source": [
    "Merging the two datasets on Tail number "
   ]
  },
  {
   "cell_type": "code",
   "execution_count": 12,
   "id": "f6fc938d",
   "metadata": {},
   "outputs": [],
   "source": [
    "main = pd.merge(delays, plane_data,  \n",
    "\n",
    " on='tailnum',  \n",
    "\n",
    " how='inner')"
   ]
  },
  {
   "cell_type": "code",
   "execution_count": 13,
   "id": "e3d0d07c",
   "metadata": {},
   "outputs": [
    {
     "data": {
      "text/html": [
       "<div>\n",
       "<style scoped>\n",
       "    .dataframe tbody tr th:only-of-type {\n",
       "        vertical-align: middle;\n",
       "    }\n",
       "\n",
       "    .dataframe tbody tr th {\n",
       "        vertical-align: top;\n",
       "    }\n",
       "\n",
       "    .dataframe thead th {\n",
       "        text-align: right;\n",
       "    }\n",
       "</style>\n",
       "<table border=\"1\" class=\"dataframe\">\n",
       "  <thead>\n",
       "    <tr style=\"text-align: right;\">\n",
       "      <th></th>\n",
       "      <th>tailnum</th>\n",
       "      <th>DepDelay</th>\n",
       "      <th>year</th>\n",
       "    </tr>\n",
       "  </thead>\n",
       "  <tbody>\n",
       "    <tr>\n",
       "      <th>0</th>\n",
       "      <td>N425US</td>\n",
       "      <td>1.0</td>\n",
       "      <td>1989</td>\n",
       "    </tr>\n",
       "    <tr>\n",
       "      <th>1</th>\n",
       "      <td>N425US</td>\n",
       "      <td>1.0</td>\n",
       "      <td>1989</td>\n",
       "    </tr>\n",
       "    <tr>\n",
       "      <th>2</th>\n",
       "      <td>N425US</td>\n",
       "      <td>33.0</td>\n",
       "      <td>1989</td>\n",
       "    </tr>\n",
       "    <tr>\n",
       "      <th>3</th>\n",
       "      <td>N425US</td>\n",
       "      <td>22.0</td>\n",
       "      <td>1989</td>\n",
       "    </tr>\n",
       "    <tr>\n",
       "      <th>4</th>\n",
       "      <td>N425US</td>\n",
       "      <td>42.0</td>\n",
       "      <td>1989</td>\n",
       "    </tr>\n",
       "    <tr>\n",
       "      <th>...</th>\n",
       "      <td>...</td>\n",
       "      <td>...</td>\n",
       "      <td>...</td>\n",
       "    </tr>\n",
       "    <tr>\n",
       "      <th>4857487</th>\n",
       "      <td>N665JB</td>\n",
       "      <td>4.0</td>\n",
       "      <td>2007</td>\n",
       "    </tr>\n",
       "    <tr>\n",
       "      <th>4857488</th>\n",
       "      <td>N665JB</td>\n",
       "      <td>37.0</td>\n",
       "      <td>2007</td>\n",
       "    </tr>\n",
       "    <tr>\n",
       "      <th>4857489</th>\n",
       "      <td>N665JB</td>\n",
       "      <td>11.0</td>\n",
       "      <td>2007</td>\n",
       "    </tr>\n",
       "    <tr>\n",
       "      <th>4857490</th>\n",
       "      <td>N665JB</td>\n",
       "      <td>3.0</td>\n",
       "      <td>2007</td>\n",
       "    </tr>\n",
       "    <tr>\n",
       "      <th>4857491</th>\n",
       "      <td>N665JB</td>\n",
       "      <td>5.0</td>\n",
       "      <td>2007</td>\n",
       "    </tr>\n",
       "  </tbody>\n",
       "</table>\n",
       "<p>4857492 rows × 3 columns</p>\n",
       "</div>"
      ],
      "text/plain": [
       "        tailnum  DepDelay  year\n",
       "0        N425US       1.0  1989\n",
       "1        N425US       1.0  1989\n",
       "2        N425US      33.0  1989\n",
       "3        N425US      22.0  1989\n",
       "4        N425US      42.0  1989\n",
       "...         ...       ...   ...\n",
       "4857487  N665JB       4.0  2007\n",
       "4857488  N665JB      37.0  2007\n",
       "4857489  N665JB      11.0  2007\n",
       "4857490  N665JB       3.0  2007\n",
       "4857491  N665JB       5.0  2007\n",
       "\n",
       "[4857492 rows x 3 columns]"
      ]
     },
     "execution_count": 13,
     "metadata": {},
     "output_type": "execute_result"
    }
   ],
   "source": [
    "main"
   ]
  },
  {
   "cell_type": "code",
   "execution_count": 14,
   "id": "b4c70273",
   "metadata": {},
   "outputs": [
    {
     "data": {
      "text/plain": [
       "tailnum      object\n",
       "DepDelay    float64\n",
       "year         object\n",
       "dtype: object"
      ]
     },
     "execution_count": 14,
     "metadata": {},
     "output_type": "execute_result"
    }
   ],
   "source": [
    "main. dtypes "
   ]
  },
  {
   "cell_type": "code",
   "execution_count": 15,
   "id": "92a33e2d",
   "metadata": {},
   "outputs": [],
   "source": [
    "main['year'] = main['year'].astype(int)"
   ]
  },
  {
   "cell_type": "code",
   "execution_count": 16,
   "id": "abe7ad92",
   "metadata": {},
   "outputs": [
    {
     "data": {
      "text/html": [
       "<div>\n",
       "<style scoped>\n",
       "    .dataframe tbody tr th:only-of-type {\n",
       "        vertical-align: middle;\n",
       "    }\n",
       "\n",
       "    .dataframe tbody tr th {\n",
       "        vertical-align: top;\n",
       "    }\n",
       "\n",
       "    .dataframe thead th {\n",
       "        text-align: right;\n",
       "    }\n",
       "</style>\n",
       "<table border=\"1\" class=\"dataframe\">\n",
       "  <thead>\n",
       "    <tr style=\"text-align: right;\">\n",
       "      <th></th>\n",
       "      <th>tailnum</th>\n",
       "      <th>DepDelay</th>\n",
       "      <th>year</th>\n",
       "    </tr>\n",
       "  </thead>\n",
       "  <tbody>\n",
       "    <tr>\n",
       "      <th>0</th>\n",
       "      <td>N425US</td>\n",
       "      <td>1.0</td>\n",
       "      <td>1989</td>\n",
       "    </tr>\n",
       "    <tr>\n",
       "      <th>1</th>\n",
       "      <td>N425US</td>\n",
       "      <td>1.0</td>\n",
       "      <td>1989</td>\n",
       "    </tr>\n",
       "    <tr>\n",
       "      <th>2</th>\n",
       "      <td>N425US</td>\n",
       "      <td>33.0</td>\n",
       "      <td>1989</td>\n",
       "    </tr>\n",
       "    <tr>\n",
       "      <th>3</th>\n",
       "      <td>N425US</td>\n",
       "      <td>22.0</td>\n",
       "      <td>1989</td>\n",
       "    </tr>\n",
       "    <tr>\n",
       "      <th>4</th>\n",
       "      <td>N425US</td>\n",
       "      <td>42.0</td>\n",
       "      <td>1989</td>\n",
       "    </tr>\n",
       "    <tr>\n",
       "      <th>...</th>\n",
       "      <td>...</td>\n",
       "      <td>...</td>\n",
       "      <td>...</td>\n",
       "    </tr>\n",
       "    <tr>\n",
       "      <th>4857487</th>\n",
       "      <td>N665JB</td>\n",
       "      <td>4.0</td>\n",
       "      <td>2007</td>\n",
       "    </tr>\n",
       "    <tr>\n",
       "      <th>4857488</th>\n",
       "      <td>N665JB</td>\n",
       "      <td>37.0</td>\n",
       "      <td>2007</td>\n",
       "    </tr>\n",
       "    <tr>\n",
       "      <th>4857489</th>\n",
       "      <td>N665JB</td>\n",
       "      <td>11.0</td>\n",
       "      <td>2007</td>\n",
       "    </tr>\n",
       "    <tr>\n",
       "      <th>4857490</th>\n",
       "      <td>N665JB</td>\n",
       "      <td>3.0</td>\n",
       "      <td>2007</td>\n",
       "    </tr>\n",
       "    <tr>\n",
       "      <th>4857491</th>\n",
       "      <td>N665JB</td>\n",
       "      <td>5.0</td>\n",
       "      <td>2007</td>\n",
       "    </tr>\n",
       "  </tbody>\n",
       "</table>\n",
       "<p>4857492 rows × 3 columns</p>\n",
       "</div>"
      ],
      "text/plain": [
       "        tailnum  DepDelay  year\n",
       "0        N425US       1.0  1989\n",
       "1        N425US       1.0  1989\n",
       "2        N425US      33.0  1989\n",
       "3        N425US      22.0  1989\n",
       "4        N425US      42.0  1989\n",
       "...         ...       ...   ...\n",
       "4857487  N665JB       4.0  2007\n",
       "4857488  N665JB      37.0  2007\n",
       "4857489  N665JB      11.0  2007\n",
       "4857490  N665JB       3.0  2007\n",
       "4857491  N665JB       5.0  2007\n",
       "\n",
       "[4857492 rows x 3 columns]"
      ]
     },
     "execution_count": 16,
     "metadata": {},
     "output_type": "execute_result"
    }
   ],
   "source": [
    "main"
   ]
  },
  {
   "cell_type": "markdown",
   "id": "5b2d715d",
   "metadata": {},
   "source": [
    "Grouping the mean departure delays by manufacturing year of the flight"
   ]
  },
  {
   "cell_type": "code",
   "execution_count": 17,
   "id": "894842dc",
   "metadata": {},
   "outputs": [],
   "source": [
    "delays_byyear = main.groupby('year')['DepDelay'].mean()"
   ]
  },
  {
   "cell_type": "markdown",
   "id": "a604ed10",
   "metadata": {},
   "source": [
    "Plotting the departure delays by manufacturing year of the flight"
   ]
  },
  {
   "cell_type": "code",
   "execution_count": 18,
   "id": "acf24fb1",
   "metadata": {
    "scrolled": true
   },
   "outputs": [
    {
     "data": {
      "text/plain": [
       "[<matplotlib.lines.Line2D at 0x1540d1cc3d0>]"
      ]
     },
     "execution_count": 18,
     "metadata": {},
     "output_type": "execute_result"
    },
    {
     "data": {
      "image/png": "[encoded data removed]",
      "text/plain": [
       "<Figure size 1080x720 with 1 Axes>"
      ]
     },
     "metadata": {},
     "output_type": "display_data"
    }
   ],
   "source": [
    "#setting the darker grid style\n",
    "sns.set_style(\"darkgrid\")\n",
    "\n",
    "#setting the size of the figure\n",
    "fig,ax = plt.subplots(figsize = (15, 10))\n",
    "\n",
    "#rotating the xticks to increase readability\n",
    "plt.xticks(np.arange(min(delays_byyear.index), max(delays_byyear.index)+1, 1.0), rotation = 45)\n",
    "\n",
    "#setting the label for the x and y axes\n",
    "ax.set(xlabel = \"Manufacturing year of the flight\", ylabel = \"Mean delay in minutes\")\n",
    "\n",
    "sns.lineplot(ax=ax, x = delays_byyear.index, y = delays_byyear.values)\n",
    "\n",
    "#plotting the trend line for referencce\n",
    "trend = np.poly1d(np.polyfit(delays_byyear.index, delays_byyear.values, 1))\n",
    "plt.plot(delays_byyear.index,trend(delays_byyear.index))             "
   ]
  },
  {
   "cell_type": "markdown",
   "id": "49c8acf7",
   "metadata": {},
   "source": [
    "#### Do older planes suffer more delays?\n",
    "\n",
    "Yes, there seems to be a declining trend between manufacturing year of the flight and departure delays. Meaning, newer planes suffer less delays and that older planes still in use seem to suffer greater delays."
   ]
  }
 ],
 "metadata": {
  "kernelspec": {
   "display_name": "Python 3",
   "language": "python",
   "name": "python3"
  },
  "language_info": {
   "codemirror_mode": {
    "name": "ipython",
    "version": 3
   },
   "file_extension": ".py",
   "mimetype": "text/x-python",
   "name": "python",
   "nbconvert_exporter": "python",
   "pygments_lexer": "ipython3",
   "version": "3.8.8"
  }
 },
 "nbformat": 4,
 "nbformat_minor": 5
}
